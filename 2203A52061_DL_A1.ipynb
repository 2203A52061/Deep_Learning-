{
  "nbformat": 4,
  "nbformat_minor": 0,
  "metadata": {
    "colab": {
      "provenance": []
    },
    "kernelspec": {
      "name": "python3",
      "display_name": "Python 3"
    },
    "language_info": {
      "name": "python"
    }
  },
  "cells": [
    {
      "cell_type": "code",
      "execution_count": 4,
      "metadata": {
        "id": "asu3yGhUB7TA",
        "colab": {
          "base_uri": "https://localhost:8080/"
        },
        "outputId": "d6e8b5bc-0525-4e45-a3ea-5f9feab97a49"
      },
      "outputs": [
        {
          "output_type": "stream",
          "name": "stdout",
          "text": [
            "Mean Absolute Error (MAE): 0.4600000000000016\n",
            "Mean Squared Error (MSE): 0.24600000000000147\n",
            "Root Mean Squared Error (RMSE): 0.49598387070549127\n"
          ]
        }
      ],
      "source": [
        "y_actual = [20, 30, 40, 50, 60]\n",
        "y_pred = [20.5, 30.3, 40.2, 50.6, 60.7]\n",
        "\n",
        "n = len(y_actual)\n",
        "mae = sum(abs(ya - yp) for ya, yp in zip(y_actual, y_pred)) / n\n",
        "mse = sum((ya - yp) ** 2 for ya, yp in zip(y_actual, y_pred)) / n\n",
        "rmse = mse ** 0.5\n",
        "\n",
        "print(\"Mean Absolute Error (MAE):\", mae)\n",
        "print(\"Mean Squared Error (MSE):\", mse)\n",
        "print(\"Root Mean Squared Error (RMSE):\", rmse)\n",
        ""
      ]
    },
    {
      "cell_type": "code",
      "source": [
        "import numpy as np\n",
        "\n",
        "y_actual = np.array([20, 30, 40, 50, 60])\n",
        "y_pred = np.array([20.5, 30.3, 40.2, 50.6, 60.7])\n",
        "\n",
        "mae=np.mean(np.abs(y_actual - y_pred))\n",
        "mse=np.mean((y_actual - y_pred)**2)\n",
        "rmse=np.sqrt(mse)\n",
        "print(\"Mean Absolute Error:\", mae)\n",
        "print(\"Mean Squared Error:\", mse)\n",
        "print(\"Root Mean Squared Error:\", rmse)"
      ],
      "metadata": {
        "colab": {
          "base_uri": "https://localhost:8080/"
        },
        "id": "RAfzZgbHEthe",
        "outputId": "ddee564b-e32e-4242-9739-b5071c284597"
      },
      "execution_count": 5,
      "outputs": [
        {
          "output_type": "stream",
          "name": "stdout",
          "text": [
            "Mean Absolute Error: 0.4600000000000016\n",
            "Mean Squared Error: 0.24600000000000147\n",
            "Root Mean Squared Error: 0.49598387070549127\n"
          ]
        }
      ]
    }
  ]
}